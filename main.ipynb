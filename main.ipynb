{
 "cells": [
  {
   "cell_type": "code",
   "execution_count": null,
   "id": "eb317806-8476-44c9-a595-ff282a7feb9f",
   "metadata": {},
   "outputs": [],
   "source": [
    "import cv2\n",
    "from PIL import Image\n",
    "import sys\n",
    "import pyocr\n",
    "import pyocr.builders"
   ]
  },
  {
   "cell_type": "code",
   "execution_count": null,
   "id": "1160f4ff",
   "metadata": {},
   "outputs": [],
   "source": [
    "# 文字認識\n",
    "def ocr(pic):\n",
    "  tools = pyocr.get_available_tools()\n",
    "  if len(tools) == 0:\n",
    "    print(\"No OCR tool found\")\n",
    "    sys.exit(1)\n",
    "  tool = tools[0]\n",
    "\n",
    "  result = []\n",
    "  width = 275; height = 40 #切り出す画像のサイズ\n",
    "  x = 675; y = 54 #基準点\n",
    "\n",
    "  img = cv2.imread(pic, cv2.IMREAD_GRAYSCALE)\n",
    "\n",
    "  for i in range(12):\n",
    "    # 分割、2値化\n",
    "    img_cropped = img[y:y+height, x:x+width]\n",
    "    y = y + height + 12\n",
    "    ret, img_thresh = cv2.threshold(img_cropped, 180, 255, cv2.THRESH_BINARY)\n",
    "\n",
    "    if img_thresh[0][0] == 0:\n",
    "      img_thresh = 255 - img_thresh\n",
    "\n",
    "    # デバッグ用\n",
    "    # cv2.imwrite(\"./data/save/\" + str(i) + \".png\", img_thresh)\n",
    "\n",
    "    #文字認識\n",
    "    new_image = Image.fromarray(img_thresh)\n",
    "    txt = tool.image_to_string(\n",
    "      new_image,\n",
    "      lang=\"jpn+eng\",\n",
    "      builder = pyocr.builders.TextBuilder(tesseract_layout=7)\n",
    "    )\n",
    "    result.append(txt)\n",
    "\n",
    "  return result"
   ]
  },
  {
   "cell_type": "code",
   "execution_count": null,
   "id": "2e6519ee",
   "metadata": {},
   "outputs": [],
   "source": [
    "# 得点計算\n",
    "def calculate_score(pred_array, team_tag, enemy_tag):\n",
    "  rank_array = []\n",
    "  score = 0\n",
    "  score_array = [15, 12, 10, 9, 8, 7, 6, 5, 4, 3, 2, 1]\n",
    "\n",
    "  # 順位の決定\n",
    "  for i in range(12):\n",
    "    if team_tag in pred_array[i]:\n",
    "      rank_array.append(1)\n",
    "    elif enemy_tag in pred_array[i]:\n",
    "      rank_array.append(0)\n",
    "    else: #どちらのタグも完全一致しない場合\n",
    "      value = detailed_search(pred_array[i], team_tag, enemy_tag)\n",
    "      rank_array.append(value)\n",
    "\n",
    "  # 計算\n",
    "  for i in range(12):\n",
    "    if rank_array[i] == 1:\n",
    "      score += score_array[i]\n",
    "\n",
    "  print('【順位の表示】\\n味方の順位を「1」で、敵の順位を「0」で表します。\\n' + str(rank_array))\n",
    "  print('\\n')\n",
    "  print('【得点の表示】\\nこのレースで獲得した合計得点は「' + str(score) + '点」です。')\n",
    "  print('-------------------------------------------------------------')"
   ]
  },
  {
   "cell_type": "code",
   "execution_count": null,
   "id": "7ae217da",
   "metadata": {},
   "outputs": [],
   "source": [
    "def detailed_search(pred, team_tag, enemy_tag):\n",
    "  if team_tag.lower() in pred.lower(): #大文字と小文字を区別しない\n",
    "    value = 1\n",
    "  elif enemy_tag.lower() in pred.lower():\n",
    "    value = 0\n",
    "  else:\n",
    "    value = '?'\n",
    "  return value"
   ]
  },
  {
   "cell_type": "code",
   "execution_count": null,
   "id": "ce9c8b9b",
   "metadata": {},
   "outputs": [],
   "source": [
    "pred_array = ocr(\"./data/pic/0.jpeg\")\n",
    "print(pred_array)\n",
    "calculate_score(pred_array, \"NvK\", \"RiZE\")"
   ]
  }
 ],
 "metadata": {
  "kernelspec": {
   "display_name": "Python 3.10.8 ('_env_ubuntu': venv)",
   "language": "python",
   "name": "python3"
  },
  "language_info": {
   "codemirror_mode": {
    "name": "ipython",
    "version": 3
   },
   "file_extension": ".py",
   "mimetype": "text/x-python",
   "name": "python",
   "nbconvert_exporter": "python",
   "pygments_lexer": "ipython3",
   "version": "3.10.6"
  },
  "vscode": {
   "interpreter": {
    "hash": "1f78375f90354b5ba694c11fce0923fd641e1ae9115f0c1f4406d7156062c81a"
   }
  }
 },
 "nbformat": 4,
 "nbformat_minor": 5
}
