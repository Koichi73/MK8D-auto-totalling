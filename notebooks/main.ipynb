{
 "cells": [
  {
   "cell_type": "markdown",
   "metadata": {},
   "source": [
    "### 自動集計"
   ]
  },
  {
   "cell_type": "code",
   "execution_count": 1,
   "metadata": {},
   "outputs": [],
   "source": [
    "import cv2\n",
    "import pytesseract"
   ]
  },
  {
   "cell_type": "code",
   "execution_count": 5,
   "metadata": {},
   "outputs": [],
   "source": [
    "# 文字認識\n",
    "def ocr(pic):\n",
    "    texts = []\n",
    "    width = 275; height = 40 #切り出す画像のサイズ\n",
    "    x = 675; y = 54 # 基準点\n",
    "\n",
    "    img = cv2.imread(pic, cv2.IMREAD_GRAYSCALE)\n",
    "\n",
    "    for _ in range(12):\n",
    "        # 分割、2値化\n",
    "        img_cropped = img[y:y+height, x:x+width]\n",
    "        y = y + height + 12\n",
    "        ret, img_thresh = cv2.threshold(img_cropped, 180, 255, cv2.THRESH_BINARY)\n",
    "\n",
    "        if img_thresh[0][0] == 0:\n",
    "            img_thresh = 255 - img_thresh\n",
    "\n",
    "        #文字認識\n",
    "        text = pytesseract.image_to_string(img_thresh, lang='jpn')\n",
    "        texts.append(text)\n",
    "\n",
    "    return texts"
   ]
  },
  {
   "cell_type": "code",
   "execution_count": 3,
   "metadata": {},
   "outputs": [],
   "source": [
    "# 得点計算\n",
    "def calculate_score(texts, team_tag, enemy_tag):\n",
    "    rank_dict = {}\n",
    "    team_score, enemy_score = 0, 0\n",
    "    score_array = [15, 12, 10, 9, 8, 7, 6, 5, 4, 3, 2, 1]\n",
    "\n",
    "    for i, text in enumerate(texts):\n",
    "        if team_tag in text:\n",
    "            rank_dict[i+1] = team_tag\n",
    "            team_score += score_array[i]\n",
    "        elif enemy_tag in text:\n",
    "            rank_dict[i+1] = enemy_tag\n",
    "            enemy_score += score_array[i]\n",
    "        else:\n",
    "            rank_dict[i+1] = \"Error: \" + text\n",
    "\n",
    "    print(f\"順位: {rank_dict}\")\n",
    "    print(\"獲得した合計得点\")\n",
    "    print(f\"{team_tag}: {team_score}, {enemy_tag}: {enemy_score}\")"
   ]
  },
  {
   "cell_type": "code",
   "execution_count": 6,
   "metadata": {},
   "outputs": [
    {
     "name": "stdout",
     "output_type": "stream",
     "text": [
      "順位: {1: 'RK', 2: 'RK', 3: 'HD', 4: 'HD', 5: 'RK', 6: 'HD', 7: 'RK', 8: 'HD', 9: 'RK', 10: 'RK', 11: 'HD', 12: 'HD'}\n",
      "獲得した合計得点\n",
      "RK: 48, HD: 34\n"
     ]
    }
   ],
   "source": [
    "texts = ocr(\"../data/0.jpeg\")\n",
    "# print(pred_array)\n",
    "calculate_score(texts, \"RK\", \"HD\")"
   ]
  }
 ],
 "metadata": {
  "kernelspec": {
   "display_name": "mk8d",
   "language": "python",
   "name": "python3"
  },
  "language_info": {
   "codemirror_mode": {
    "name": "ipython",
    "version": 3
   },
   "file_extension": ".py",
   "mimetype": "text/x-python",
   "name": "python",
   "nbconvert_exporter": "python",
   "pygments_lexer": "ipython3",
   "version": "3.11.8"
  }
 },
 "nbformat": 4,
 "nbformat_minor": 2
}
